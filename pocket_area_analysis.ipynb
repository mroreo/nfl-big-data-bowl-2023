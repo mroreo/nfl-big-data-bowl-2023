{
 "cells": [
  {
   "cell_type": "code",
   "execution_count": 1,
   "id": "48d71118-5f7a-4b30-952d-5560ef0d3f20",
   "metadata": {},
   "outputs": [],
   "source": [
    "import pandas as pd\n",
    "import numpy as np\n",
    "import matplotlib.pyplot as plt\n",
    "import seaborn as sns\n",
    "import geopandas as gpd\n",
    "import warnings\n",
    "import plotly.io as pio\n",
    "from itertools import chain\n",
    "from plots import plot_game_play_id\n",
    "from distances import calc_dist\n",
    "from shapely import geometry\n",
    "from sklearn.preprocessing import StandardScaler\n",
    "from shapely.ops import unary_union\n",
    "from shapely.validation import make_valid\n",
    "from shapely.errors import ShapelyDeprecationWarning"
   ]
  },
  {
   "cell_type": "code",
   "execution_count": 2,
   "id": "964fb993-1321-4663-b269-e57e08fb689e",
   "metadata": {},
   "outputs": [],
   "source": [
    "pio.renderers.default = 'jupyterlab'\n",
    "pd.set_option('display.max_columns', None)\n",
    "warnings.filterwarnings(\"ignore\", category=ShapelyDeprecationWarning) \n",
    "warnings.filterwarnings(\"ignore\", category=np.VisibleDeprecationWarning) "
   ]
  },
  {
   "cell_type": "code",
   "execution_count": 3,
   "id": "38f2d418-016a-4c5e-8c5a-3060bd4959e1",
   "metadata": {},
   "outputs": [],
   "source": [
    "GAMES_PATH='./data/games.csv'\n",
    "PFF_SCOUTING_DATA_PATH='./data/pffScoutingdata.csv'\n",
    "PLAYERS_PATH='./data/players.csv'\n",
    "PLAYS_PATH='./data/plays.csv'\n",
    "WEEK_PATH='./data/week{}.csv'\n",
    "WEEK_IDS = [1,2,3,4]\n",
    "PASS_RESULTS = ['I','C','IN']\n",
    "SNAP_EVENTS = ['ball_snap', 'autoevent_ballsnap']\n",
    "NONSNAP_EVENTS = ['autoevent_passforward', 'pass_forward', 'qb_sack', 'autoevent_passinterrupted',\n",
    "                  'pass_tipped', 'qb_strip_sack', 'autoevent_passinterrupted']\n",
    "OLINE_POS_lINEDUP= ['C','LT','LG','RT','RG']"
   ]
  },
  {
   "cell_type": "code",
   "execution_count": 4,
   "id": "540728aa-6b4d-4b5d-a35d-7059b933da9f",
   "metadata": {},
   "outputs": [],
   "source": [
    "def ccworder(A):\n",
    "    A= A- np.mean(A, 1)[:, None]\n",
    "    return np.argsort(np.arctan2(A[1, :], A[0, :]))\n",
    "\n",
    "def gen_snap_df(week_df, snap_events=SNAP_EVENTS):\n",
    "    snap_df = (week_df\n",
    "               .query('event.isin(@snap_events)')\n",
    "               .groupby(['gameId','playId'])\n",
    "               [['frameId', 'time']].min()\n",
    "               .reset_index()\n",
    "               .rename({'frameId': 'snap_frameId',\n",
    "                        'time': 'snap_time'}, axis=1))\n",
    "    return snap_df\n",
    "\n",
    "def gen_nonsnap_df(week_df, nonsnap_events=NONSNAP_EVENTS):\n",
    "    nonsnap_df = (week_df\n",
    "               .query('event.isin(@nonsnap_events)')\n",
    "               .groupby(['gameId','playId'])\n",
    "               [['frameId','time']].min()\n",
    "               .reset_index()\n",
    "               .rename({'frameId': 'nonsnap_frameId',\n",
    "                        'time': 'nonsnap_time'},axis=1))\n",
    "    return nonsnap_df\n",
    "\n",
    "def gen_passer_df(week_df):\n",
    "    passer_df = (week_df.query('pff_role == \"Pass\"')\n",
    "                 [['gameId', 'playId','frameId','time', 'x', 'y', 's','a','dis','o','dir']]\n",
    "                 .rename({'x': 'qb_x',\n",
    "                          'y': 'qb_y',\n",
    "                          's': 'qb_s',\n",
    "                          'a': 'qb_a',\n",
    "                          'o': 'qb_o',\n",
    "                          'dis': 'qb_dis',\n",
    "                          'dir': 'qb_dir'}, axis=1))\n",
    "    return passer_df\n",
    "\n",
    "def gen_line_df(week_df, position, id_cols = ['gameId','nflId', 'playId','frameId'], feats_cols = ['x', 'y', 's','a','dis','o','dir'], oline_pos_lineup=OLINE_POS_lINEDUP, lookback_pd=5, min_speed=0.01, t=0.1):\n",
    "    \n",
    "    all_cols = list(chain(*[id_cols, feats_cols]))\n",
    "    \n",
    "    rename_cols = {}\n",
    "    for f in feats_cols:\n",
    "        renamed_col = f'{position}_{f}'\n",
    "        rename_cols[f] = renamed_col\n",
    "    \n",
    "    if position == 'pb':\n",
    "        line_df = (week_df\n",
    "                    .query('pff_role == \"Pass Block\"'))\n",
    "                    \n",
    "        if oline_pos_lineup:\n",
    "            line_df = (line_df.query('pff_positionLinedUp.isin(@oline_pos_lineup)'))\n",
    "    else:\n",
    "        line_df = (week_df\n",
    "                    .query('pff_role == \"Pass Rush\"'))\n",
    "    \n",
    "    line_df = (line_df[all_cols].rename(rename_cols, axis=1))\n",
    "    \n",
    "    line_id_df = line_df[['gameId','playId','nflId']].drop_duplicates().groupby(['gameId', 'playId']).apply(lambda x: x.reset_index(drop=True).reset_index()).reset_index(drop=True).rename({'index': f'{position}_id'}, axis=1)\n",
    "\n",
    "    line_df = (line_df.merge(line_id_df, how='left', on=['gameId', 'playId', 'nflId']))\n",
    "    line_df[f'{position}_displacement'] = line_df.apply(lambda x: max(x[f'{position}_s'], min_speed) * t + 0.5*(x[f'{position}_a']) * t**2, axis=1)\n",
    "    line_df[f'{position}_point'] = line_df.apply(lambda x: geometry.Point(x[f'{position}_x'], x[f'{position}_y']).buffer(x[f'{position}_displacement']), axis=1)\n",
    "    \n",
    "    all_movement_paths = []\n",
    "    for k, df_grp in line_df.groupby(['gameId', 'playId', 'nflId']):\n",
    "        \n",
    "        all_paths = []\n",
    "        for i in range(1, len(df_grp)+1):\n",
    "            all_paths.append(unary_union(df_grp[f'{position}_point'].values[max(0, i - lookback_pd):i]))\n",
    "        \n",
    "        df_grp[f'{position}_movement_path'] = all_paths\n",
    "        all_movement_paths.append(df_grp)\n",
    "    line_df_poly = pd.concat(all_movement_paths)\n",
    "    return line_id_df, line_df_poly\n",
    "\n",
    "def pivot_line_df(line_df, position):\n",
    "    line_df = line_df.pivot(index=['gameId', 'playId', 'frameId'], columns=[f'{position}_id'], values=[f'{position}_point', f'{position}_movement_path', f'{position}_x', f'{position}_y', f'{position}_o', f'{position}_dir', f'{position}_s', f'{position}_a', f'{position}_dis'])\n",
    "    line_df.columns = ['{}_{}'.format(c[0], c[1]) for c in line_df.columns]\n",
    "    line_df.reset_index(inplace=True)\n",
    "    return line_df\n",
    "\n",
    "def gen_pocket_polygon(row):\n",
    "    \n",
    "    # row = pocket_area_df.iloc[0]\n",
    "    \n",
    "    all_coords = []\n",
    "    for c in row.index.values:\n",
    "        \n",
    "        if 'pb_x' in c:\n",
    "            if not(pd.isnull(row[c])):\n",
    "                all_coords.append((row[c], row[c.replace('_x', '_y')]))\n",
    "    \n",
    "    all_coords2 = np.array(all_coords)[np.argsort(np.array(all_coords)[:,1])]\n",
    "    oline_coords2 = np.vstack([all_coords2,[row['qb_x'], row['qb_y']]])\n",
    "    \n",
    "    all_coords.append((row['qb_x'], row['qb_y']))\n",
    "    \n",
    "    A = np.array(all_coords).T\n",
    "    sorted_order = ccworder(A)\n",
    "    oline_coords = A.T[sorted_order]\n",
    "    \n",
    "    geom1 = geometry.Polygon(oline_coords)\n",
    "    geom2 = geometry.Polygon(oline_coords2)\n",
    "    \n",
    "    if geom1.area > geom2.area:\n",
    "        return geom1\n",
    "    else:\n",
    "        return geom2\n",
    "    \n",
    "def gen_pocket_area_df(passer_df, pass_blockers_df, snap_df, nonsnap_df):\n",
    "    \n",
    "    pass_blockers_df = pivot_line_df(pass_blockers_df, position='pb')\n",
    "    \n",
    "    pocket_area_df = (passer_df\n",
    "                          .merge(pass_blockers_df, how='left', on=['gameId', 'playId', 'frameId'])\n",
    "                          .merge(snap_df, how='left', on=['gameId', 'playId'])\n",
    "                          .merge(nonsnap_df, how='left', on=['gameId', 'playId'])\n",
    "                          .query('(frameId >= snap_frameId) & (frameId <= nonsnap_frameId)')\n",
    "                          .assign(\n",
    "                              time_since_snap = lambda x: (pd.to_datetime(x['time']) - pd.to_datetime(x['snap_time'])).dt.total_seconds()\n",
    "                              ))\n",
    "    \n",
    "    pocket_area_df['pocket_polygon'] = pocket_area_df.apply(lambda x: gen_pocket_polygon(x), axis=1)\n",
    "    pocket_area_df['pocket_area'] = pocket_area_df['pocket_polygon'].apply(lambda x: x.area)\n",
    "    return pocket_area_df\n",
    "\n",
    "def gen_pocket_adj_risk_poly(row):\n",
    "    pocket_poly = row['pocket_polygon']\n",
    "    pocket_poly = make_valid(pocket_poly)\n",
    "    \n",
    "    pb_paths = [p for p in row.index.values if 'pb_movement_path' in p]\n",
    "    pr_paths = [p for p in row.index.values if 'pr_movement_path' in p]\n",
    "    \n",
    "    pb_paths_poly = [p for p in row[pb_paths].values if not(pd.isnull(p))]\n",
    "    pr_paths_poly = [p for p in row[pr_paths].values if not(pd.isnull(p))]\n",
    "    \n",
    "    pr_combined = unary_union(pr_paths_poly)\n",
    "    pb_combined = unary_union(pb_paths_poly)\n",
    "    \n",
    "    attack_polys = (pr_combined.symmetric_difference(pb_combined)).difference(pb_combined)\n",
    "    attack_polys = make_valid(attack_polys)\n",
    "    \n",
    "    attack_in_pocket_poly = pocket_poly.intersection(attack_polys)\n",
    "    \n",
    "    return attack_in_pocket_poly\n",
    "\n",
    "def nthHarmonic(N) :\n",
    " \n",
    "    # H1 = 1\n",
    "    harmonic = 1.00\n",
    " \n",
    "    # loop to apply the formula\n",
    "    # Hn = H1 + H2 + H3 ... +\n",
    "    # Hn-1 + Hn-1 + 1/n\n",
    "    for i in range(2, N + 1) :\n",
    "        harmonic += 1 / i\n",
    " \n",
    "    return harmonic"
   ]
  },
  {
   "cell_type": "markdown",
   "id": "856af676-ebbe-459c-aae7-50e7b97fed2e",
   "metadata": {},
   "source": [
    "## Load the Data"
   ]
  },
  {
   "cell_type": "code",
   "execution_count": 5,
   "id": "f7b6d361-ed77-47c4-9f79-48f05a6f0ebb",
   "metadata": {},
   "outputs": [],
   "source": [
    "games_df = pd.read_csv(GAMES_PATH)\n",
    "plays_df = pd.read_csv(PLAYS_PATH)\n",
    "players_df = pd.read_csv(PLAYERS_PATH)\n",
    "pff_scouting_df = pd.read_csv(PFF_SCOUTING_DATA_PATH)\n",
    "\n",
    "games_df = games_df.query('week.isin(@WEEK_IDS)')\n",
    "plays_df = plays_df.merge(games_df, how='inner', on=['gameId'])\n",
    "pff_scouting_df = pff_scouting_df.merge(games_df['gameId'], how='inner', on='gameId', validate='m:1')"
   ]
  },
  {
   "cell_type": "code",
   "execution_count": 6,
   "id": "651625c4-e5b5-4fff-b85f-7f89e3674d74",
   "metadata": {},
   "outputs": [],
   "source": [
    "#Filter for pass plays only\n",
    "plays_df = (plays_df\n",
    "            .query('(pff_playAction == 0) & (passResult.isin(@PASS_RESULTS))')\n",
    "            .query('foulName1.isna()')\n",
    "            .query('dropBackType == \"TRADITIONAL\"'))"
   ]
  },
  {
   "cell_type": "code",
   "execution_count": 7,
   "id": "6c288612-c69f-433c-83d7-201387d8b35b",
   "metadata": {},
   "outputs": [],
   "source": [
    "#Load the weekly data\n",
    "week_df = []\n",
    "for week_id in WEEK_IDS:\n",
    "    week_df.append(pd.read_csv(WEEK_PATH.format(week_id)))\n",
    "week_df = pd.concat(week_df)\n",
    "\n",
    "week_df = (week_df\n",
    "           .merge(players_df, how='left', on='nflId', validate='m:1')\n",
    "           .merge(pff_scouting_df, how='left', on=['nflId', 'gameId', 'playId'], validate='m:1')\n",
    "           .merge(plays_df, how='inner', on=['gameId', 'playId'], validate='m:1')\n",
    "           )\n",
    "\n",
    "#Generate the snap event dataframe\n",
    "snap_df = gen_snap_df(week_df)\n",
    "nonsnap_df = gen_nonsnap_df(week_df)\n",
    "\n",
    "#Get the QB dataframe\n",
    "passer_df = gen_passer_df(week_df)\n",
    "\n",
    "#Get the pass blockers dataframe\n",
    "pass_blockers_id_df, pass_blockers_poly_df = gen_line_df(week_df, position='pb')\n",
    "all_pass_blockers_id_df, all_pass_blockers_poly_df = gen_line_df(week_df, position='pb', oline_pos_lineup=None)\n",
    "pass_rushers_id_df, pass_rushers_poly_df = gen_line_df(week_df, position='pr')"
   ]
  },
  {
   "cell_type": "code",
   "execution_count": 8,
   "id": "8cba2ea2-368b-4113-82ba-5ecf5399560a",
   "metadata": {},
   "outputs": [],
   "source": [
    "pocket_area_df = gen_pocket_area_df(passer_df, pass_blockers_poly_df, snap_df, nonsnap_df)"
   ]
  },
  {
   "cell_type": "code",
   "execution_count": 9,
   "id": "08a464b3-fea4-459a-a3cc-013528c2e847",
   "metadata": {},
   "outputs": [],
   "source": [
    "pocket_area_df = pocket_area_df.drop([c for c in pocket_area_df.columns if 'pb_' in c], axis=1)\n",
    "pocket_area_df = pocket_area_df.merge(pivot_line_df(all_pass_blockers_poly_df, 'pb'), how='left', on=['gameId', 'playId', 'frameId'])\n",
    "\n",
    "pb_movement_cols = [c for c in pocket_area_df.columns if 'pb_movement_path' in c]\n",
    "all_cols = list(chain(*[['gameId', 'playId', 'frameId', 'time', 'time_since_snap','snap_frameId','nonsnap_frameId', 'pocket_polygon', 'pocket_area'], pb_movement_cols]))\n",
    "\n",
    "pocket_area_df = pocket_area_df[all_cols]\n",
    "pocket_area_df = pocket_area_df.merge(pivot_line_df(pass_rushers_poly_df, 'pr')[['gameId', 'playId', 'frameId', 'pr_movement_path_0', 'pr_movement_path_1', 'pr_movement_path_2',\n",
    "                                                       'pr_movement_path_3', 'pr_movement_path_4', 'pr_movement_path_5', 'pr_movement_path_6']], how='left', on=['gameId', 'playId', 'frameId'])\n"
   ]
  },
  {
   "cell_type": "code",
   "execution_count": 10,
   "id": "a26a78df-ada9-41a2-bb46-d7148bd9dad1",
   "metadata": {},
   "outputs": [],
   "source": [
    "pocket_area_df['affected_pocket_polygon'] = pocket_area_df.apply(lambda x: gen_pocket_adj_risk_poly(x), axis=1)\n",
    "pocket_area_df['affected_pocket_area'] = pocket_area_df.apply(lambda x: x['affected_pocket_polygon'].area, axis=1)\n",
    "\n",
    "pocket_area_df['affected_pocket_area_pct'] = pocket_area_df['affected_pocket_area']/ pocket_area_df['pocket_area']"
   ]
  },
  {
   "cell_type": "code",
   "execution_count": 11,
   "id": "f1ac57b8-3de0-412f-98a7-e2d697375ed0",
   "metadata": {},
   "outputs": [
    {
     "name": "stderr",
     "output_type": "stream",
     "text": [
      "C:\\Users\\ben\\AppData\\Local\\Temp\\ipykernel_22488\\2471944617.py:3: SettingWithCopyWarning:\n",
      "\n",
      "\n",
      "A value is trying to be set on a copy of a slice from a DataFrame.\n",
      "Try using .loc[row_indexer,col_indexer] = value instead\n",
      "\n",
      "See the caveats in the documentation: https://pandas.pydata.org/pandas-docs/stable/user_guide/indexing.html#returning-a-view-versus-a-copy\n",
      "\n",
      "C:\\Users\\ben\\AppData\\Local\\Temp\\ipykernel_22488\\2471944617.py:6: SettingWithCopyWarning:\n",
      "\n",
      "\n",
      "A value is trying to be set on a copy of a slice from a DataFrame.\n",
      "Try using .loc[row_indexer,col_indexer] = value instead\n",
      "\n",
      "See the caveats in the documentation: https://pandas.pydata.org/pandas-docs/stable/user_guide/indexing.html#returning-a-view-versus-a-copy\n",
      "\n"
     ]
    }
   ],
   "source": [
    "#Plot week append\n",
    "week_df_append_polygon = pocket_area_df[['gameId', 'playId', 'frameId', 'pocket_polygon']]\n",
    "week_df_append_polygon['team'] = 'pocket_polygon'\n",
    "\n",
    "week_df_append_affected_polygon = pocket_area_df[['gameId', 'playId', 'frameId', 'affected_pocket_polygon']]\n",
    "week_df_append_affected_polygon['team'] = 'affected_pocket_polygon'\n",
    "\n",
    "#Create the appended data for plotting the polygons later\n",
    "week_df_appended = pd.concat([week_df, week_df_append_affected_polygon, week_df_append_polygon], axis=0)"
   ]
  },
  {
   "cell_type": "code",
   "execution_count": 12,
   "id": "975fef3b-fdba-40c8-b815-0d4b4d2463e1",
   "metadata": {},
   "outputs": [],
   "source": [
    "def calc_pr_disruption_area(x):\n",
    "    \n",
    "    pb_paths = [p for p in x.index.values if 'pb_movement_path' in p]\n",
    "    pb_paths_poly = [p for p in x[pb_paths].values if not(pd.isnull(p))]\n",
    "    \n",
    "    pb_combined = unary_union(pb_paths_poly)\n",
    "    \n",
    "    attack_poly = x['pr_movement_path'].symmetric_difference(pb_combined).difference(pb_combined)\n",
    "    attack_poly = make_valid(attack_poly)\n",
    "    \n",
    "    attack_in_pocket_poly = make_valid(x['pocket_polygon']).intersection(attack_poly)\n",
    "    return attack_in_pocket_poly"
   ]
  },
  {
   "cell_type": "code",
   "execution_count": 13,
   "id": "13cb5c55-0fd1-4171-b837-15fc89cdf59f",
   "metadata": {},
   "outputs": [
    {
     "ename": "KeyboardInterrupt",
     "evalue": "",
     "output_type": "error",
     "traceback": [
      "\u001b[1;31m---------------------------------------------------------------------------\u001b[0m",
      "\u001b[1;31mKeyboardInterrupt\u001b[0m                         Traceback (most recent call last)",
      "\u001b[1;32m~\\AppData\\Local\\Temp\\ipykernel_22488\\3290760255.py\u001b[0m in \u001b[0;36m<cell line: 9>\u001b[1;34m()\u001b[0m\n\u001b[0;32m      7\u001b[0m \u001b[0mdrop_cols\u001b[0m \u001b[1;33m=\u001b[0m \u001b[1;33m[\u001b[0m\u001b[0mc\u001b[0m \u001b[1;32mfor\u001b[0m \u001b[0mc\u001b[0m \u001b[1;32min\u001b[0m \u001b[0mpocket_poly_df\u001b[0m\u001b[1;33m.\u001b[0m\u001b[0mcolumns\u001b[0m \u001b[1;32mif\u001b[0m \u001b[1;34m'pb_'\u001b[0m \u001b[1;32min\u001b[0m \u001b[0mc\u001b[0m \u001b[1;32mand\u001b[0m \u001b[1;34m'pb_movement_path'\u001b[0m \u001b[1;32mnot\u001b[0m \u001b[1;32min\u001b[0m \u001b[0mc\u001b[0m\u001b[1;33m]\u001b[0m\u001b[1;33m\u001b[0m\u001b[1;33m\u001b[0m\u001b[0m\n\u001b[0;32m      8\u001b[0m \u001b[0mpocket_poly_df\u001b[0m \u001b[1;33m=\u001b[0m \u001b[0mpocket_poly_df\u001b[0m\u001b[1;33m.\u001b[0m\u001b[0mdrop\u001b[0m\u001b[1;33m(\u001b[0m\u001b[0mdrop_cols\u001b[0m\u001b[1;33m,\u001b[0m \u001b[0maxis\u001b[0m\u001b[1;33m=\u001b[0m\u001b[1;36m1\u001b[0m\u001b[1;33m)\u001b[0m\u001b[1;33m\u001b[0m\u001b[1;33m\u001b[0m\u001b[0m\n\u001b[1;32m----> 9\u001b[1;33m \u001b[0mpocket_poly_df\u001b[0m\u001b[1;33m[\u001b[0m\u001b[1;34m'pr_pocket_intersection'\u001b[0m\u001b[1;33m]\u001b[0m \u001b[1;33m=\u001b[0m \u001b[0mpocket_poly_df\u001b[0m\u001b[1;33m.\u001b[0m\u001b[0mapply\u001b[0m\u001b[1;33m(\u001b[0m\u001b[1;32mlambda\u001b[0m \u001b[0mx\u001b[0m \u001b[1;33m:\u001b[0m \u001b[0mcalc_pr_disruption_area\u001b[0m\u001b[1;33m(\u001b[0m\u001b[0mx\u001b[0m\u001b[1;33m)\u001b[0m\u001b[1;33m,\u001b[0m \u001b[0maxis\u001b[0m\u001b[1;33m=\u001b[0m\u001b[1;36m1\u001b[0m\u001b[1;33m)\u001b[0m\u001b[1;33m\u001b[0m\u001b[1;33m\u001b[0m\u001b[0m\n\u001b[0m\u001b[0;32m     10\u001b[0m \u001b[0mpocket_poly_df\u001b[0m\u001b[1;33m.\u001b[0m\u001b[0mhead\u001b[0m\u001b[1;33m(\u001b[0m\u001b[1;33m)\u001b[0m\u001b[1;33m\u001b[0m\u001b[1;33m\u001b[0m\u001b[0m\n",
      "\u001b[1;32m~\\anaconda3\\envs\\ee\\lib\\site-packages\\pandas\\core\\frame.py\u001b[0m in \u001b[0;36mapply\u001b[1;34m(self, func, axis, raw, result_type, args, **kwargs)\u001b[0m\n\u001b[0;32m   9553\u001b[0m             \u001b[0mkwargs\u001b[0m\u001b[1;33m=\u001b[0m\u001b[0mkwargs\u001b[0m\u001b[1;33m,\u001b[0m\u001b[1;33m\u001b[0m\u001b[1;33m\u001b[0m\u001b[0m\n\u001b[0;32m   9554\u001b[0m         )\n\u001b[1;32m-> 9555\u001b[1;33m         \u001b[1;32mreturn\u001b[0m \u001b[0mop\u001b[0m\u001b[1;33m.\u001b[0m\u001b[0mapply\u001b[0m\u001b[1;33m(\u001b[0m\u001b[1;33m)\u001b[0m\u001b[1;33m.\u001b[0m\u001b[0m__finalize__\u001b[0m\u001b[1;33m(\u001b[0m\u001b[0mself\u001b[0m\u001b[1;33m,\u001b[0m \u001b[0mmethod\u001b[0m\u001b[1;33m=\u001b[0m\u001b[1;34m\"apply\"\u001b[0m\u001b[1;33m)\u001b[0m\u001b[1;33m\u001b[0m\u001b[1;33m\u001b[0m\u001b[0m\n\u001b[0m\u001b[0;32m   9556\u001b[0m \u001b[1;33m\u001b[0m\u001b[0m\n\u001b[0;32m   9557\u001b[0m     def applymap(\n",
      "\u001b[1;32m~\\anaconda3\\envs\\ee\\lib\\site-packages\\pandas\\core\\apply.py\u001b[0m in \u001b[0;36mapply\u001b[1;34m(self)\u001b[0m\n\u001b[0;32m    744\u001b[0m             \u001b[1;32mreturn\u001b[0m \u001b[0mself\u001b[0m\u001b[1;33m.\u001b[0m\u001b[0mapply_raw\u001b[0m\u001b[1;33m(\u001b[0m\u001b[1;33m)\u001b[0m\u001b[1;33m\u001b[0m\u001b[1;33m\u001b[0m\u001b[0m\n\u001b[0;32m    745\u001b[0m \u001b[1;33m\u001b[0m\u001b[0m\n\u001b[1;32m--> 746\u001b[1;33m         \u001b[1;32mreturn\u001b[0m \u001b[0mself\u001b[0m\u001b[1;33m.\u001b[0m\u001b[0mapply_standard\u001b[0m\u001b[1;33m(\u001b[0m\u001b[1;33m)\u001b[0m\u001b[1;33m\u001b[0m\u001b[1;33m\u001b[0m\u001b[0m\n\u001b[0m\u001b[0;32m    747\u001b[0m \u001b[1;33m\u001b[0m\u001b[0m\n\u001b[0;32m    748\u001b[0m     \u001b[1;32mdef\u001b[0m \u001b[0magg\u001b[0m\u001b[1;33m(\u001b[0m\u001b[0mself\u001b[0m\u001b[1;33m)\u001b[0m\u001b[1;33m:\u001b[0m\u001b[1;33m\u001b[0m\u001b[1;33m\u001b[0m\u001b[0m\n",
      "\u001b[1;32m~\\anaconda3\\envs\\ee\\lib\\site-packages\\pandas\\core\\apply.py\u001b[0m in \u001b[0;36mapply_standard\u001b[1;34m(self)\u001b[0m\n\u001b[0;32m    871\u001b[0m \u001b[1;33m\u001b[0m\u001b[0m\n\u001b[0;32m    872\u001b[0m     \u001b[1;32mdef\u001b[0m \u001b[0mapply_standard\u001b[0m\u001b[1;33m(\u001b[0m\u001b[0mself\u001b[0m\u001b[1;33m)\u001b[0m\u001b[1;33m:\u001b[0m\u001b[1;33m\u001b[0m\u001b[1;33m\u001b[0m\u001b[0m\n\u001b[1;32m--> 873\u001b[1;33m         \u001b[0mresults\u001b[0m\u001b[1;33m,\u001b[0m \u001b[0mres_index\u001b[0m \u001b[1;33m=\u001b[0m \u001b[0mself\u001b[0m\u001b[1;33m.\u001b[0m\u001b[0mapply_series_generator\u001b[0m\u001b[1;33m(\u001b[0m\u001b[1;33m)\u001b[0m\u001b[1;33m\u001b[0m\u001b[1;33m\u001b[0m\u001b[0m\n\u001b[0m\u001b[0;32m    874\u001b[0m \u001b[1;33m\u001b[0m\u001b[0m\n\u001b[0;32m    875\u001b[0m         \u001b[1;31m# wrap results\u001b[0m\u001b[1;33m\u001b[0m\u001b[1;33m\u001b[0m\u001b[0m\n",
      "\u001b[1;32m~\\anaconda3\\envs\\ee\\lib\\site-packages\\pandas\\core\\apply.py\u001b[0m in \u001b[0;36mapply_series_generator\u001b[1;34m(self)\u001b[0m\n\u001b[0;32m    887\u001b[0m             \u001b[1;32mfor\u001b[0m \u001b[0mi\u001b[0m\u001b[1;33m,\u001b[0m \u001b[0mv\u001b[0m \u001b[1;32min\u001b[0m \u001b[0menumerate\u001b[0m\u001b[1;33m(\u001b[0m\u001b[0mseries_gen\u001b[0m\u001b[1;33m)\u001b[0m\u001b[1;33m:\u001b[0m\u001b[1;33m\u001b[0m\u001b[1;33m\u001b[0m\u001b[0m\n\u001b[0;32m    888\u001b[0m                 \u001b[1;31m# ignore SettingWithCopy here in case the user mutates\u001b[0m\u001b[1;33m\u001b[0m\u001b[1;33m\u001b[0m\u001b[0m\n\u001b[1;32m--> 889\u001b[1;33m                 \u001b[0mresults\u001b[0m\u001b[1;33m[\u001b[0m\u001b[0mi\u001b[0m\u001b[1;33m]\u001b[0m \u001b[1;33m=\u001b[0m \u001b[0mself\u001b[0m\u001b[1;33m.\u001b[0m\u001b[0mf\u001b[0m\u001b[1;33m(\u001b[0m\u001b[0mv\u001b[0m\u001b[1;33m)\u001b[0m\u001b[1;33m\u001b[0m\u001b[1;33m\u001b[0m\u001b[0m\n\u001b[0m\u001b[0;32m    890\u001b[0m                 \u001b[1;32mif\u001b[0m \u001b[0misinstance\u001b[0m\u001b[1;33m(\u001b[0m\u001b[0mresults\u001b[0m\u001b[1;33m[\u001b[0m\u001b[0mi\u001b[0m\u001b[1;33m]\u001b[0m\u001b[1;33m,\u001b[0m \u001b[0mABCSeries\u001b[0m\u001b[1;33m)\u001b[0m\u001b[1;33m:\u001b[0m\u001b[1;33m\u001b[0m\u001b[1;33m\u001b[0m\u001b[0m\n\u001b[0;32m    891\u001b[0m                     \u001b[1;31m# If we have a view on v, we need to make a copy because\u001b[0m\u001b[1;33m\u001b[0m\u001b[1;33m\u001b[0m\u001b[0m\n",
      "\u001b[1;32m~\\AppData\\Local\\Temp\\ipykernel_22488\\3290760255.py\u001b[0m in \u001b[0;36m<lambda>\u001b[1;34m(x)\u001b[0m\n\u001b[0;32m      7\u001b[0m \u001b[0mdrop_cols\u001b[0m \u001b[1;33m=\u001b[0m \u001b[1;33m[\u001b[0m\u001b[0mc\u001b[0m \u001b[1;32mfor\u001b[0m \u001b[0mc\u001b[0m \u001b[1;32min\u001b[0m \u001b[0mpocket_poly_df\u001b[0m\u001b[1;33m.\u001b[0m\u001b[0mcolumns\u001b[0m \u001b[1;32mif\u001b[0m \u001b[1;34m'pb_'\u001b[0m \u001b[1;32min\u001b[0m \u001b[0mc\u001b[0m \u001b[1;32mand\u001b[0m \u001b[1;34m'pb_movement_path'\u001b[0m \u001b[1;32mnot\u001b[0m \u001b[1;32min\u001b[0m \u001b[0mc\u001b[0m\u001b[1;33m]\u001b[0m\u001b[1;33m\u001b[0m\u001b[1;33m\u001b[0m\u001b[0m\n\u001b[0;32m      8\u001b[0m \u001b[0mpocket_poly_df\u001b[0m \u001b[1;33m=\u001b[0m \u001b[0mpocket_poly_df\u001b[0m\u001b[1;33m.\u001b[0m\u001b[0mdrop\u001b[0m\u001b[1;33m(\u001b[0m\u001b[0mdrop_cols\u001b[0m\u001b[1;33m,\u001b[0m \u001b[0maxis\u001b[0m\u001b[1;33m=\u001b[0m\u001b[1;36m1\u001b[0m\u001b[1;33m)\u001b[0m\u001b[1;33m\u001b[0m\u001b[1;33m\u001b[0m\u001b[0m\n\u001b[1;32m----> 9\u001b[1;33m \u001b[0mpocket_poly_df\u001b[0m\u001b[1;33m[\u001b[0m\u001b[1;34m'pr_pocket_intersection'\u001b[0m\u001b[1;33m]\u001b[0m \u001b[1;33m=\u001b[0m \u001b[0mpocket_poly_df\u001b[0m\u001b[1;33m.\u001b[0m\u001b[0mapply\u001b[0m\u001b[1;33m(\u001b[0m\u001b[1;32mlambda\u001b[0m \u001b[0mx\u001b[0m \u001b[1;33m:\u001b[0m \u001b[0mcalc_pr_disruption_area\u001b[0m\u001b[1;33m(\u001b[0m\u001b[0mx\u001b[0m\u001b[1;33m)\u001b[0m\u001b[1;33m,\u001b[0m \u001b[0maxis\u001b[0m\u001b[1;33m=\u001b[0m\u001b[1;36m1\u001b[0m\u001b[1;33m)\u001b[0m\u001b[1;33m\u001b[0m\u001b[1;33m\u001b[0m\u001b[0m\n\u001b[0m\u001b[0;32m     10\u001b[0m \u001b[0mpocket_poly_df\u001b[0m\u001b[1;33m.\u001b[0m\u001b[0mhead\u001b[0m\u001b[1;33m(\u001b[0m\u001b[1;33m)\u001b[0m\u001b[1;33m\u001b[0m\u001b[1;33m\u001b[0m\u001b[0m\n",
      "\u001b[1;32m~\\AppData\\Local\\Temp\\ipykernel_22488\\3817441482.py\u001b[0m in \u001b[0;36mcalc_pr_disruption_area\u001b[1;34m(x)\u001b[0m\n\u001b[0;32m      6\u001b[0m     \u001b[0mpb_combined\u001b[0m \u001b[1;33m=\u001b[0m \u001b[0munary_union\u001b[0m\u001b[1;33m(\u001b[0m\u001b[0mpb_paths_poly\u001b[0m\u001b[1;33m)\u001b[0m\u001b[1;33m\u001b[0m\u001b[1;33m\u001b[0m\u001b[0m\n\u001b[0;32m      7\u001b[0m \u001b[1;33m\u001b[0m\u001b[0m\n\u001b[1;32m----> 8\u001b[1;33m     \u001b[0mattack_poly\u001b[0m \u001b[1;33m=\u001b[0m \u001b[0mx\u001b[0m\u001b[1;33m[\u001b[0m\u001b[1;34m'pr_movement_path'\u001b[0m\u001b[1;33m]\u001b[0m\u001b[1;33m.\u001b[0m\u001b[0msymmetric_difference\u001b[0m\u001b[1;33m(\u001b[0m\u001b[0mpb_combined\u001b[0m\u001b[1;33m)\u001b[0m\u001b[1;33m.\u001b[0m\u001b[0mdifference\u001b[0m\u001b[1;33m(\u001b[0m\u001b[0mpb_combined\u001b[0m\u001b[1;33m)\u001b[0m\u001b[1;33m\u001b[0m\u001b[1;33m\u001b[0m\u001b[0m\n\u001b[0m\u001b[0;32m      9\u001b[0m     \u001b[0mattack_poly\u001b[0m \u001b[1;33m=\u001b[0m \u001b[0mmake_valid\u001b[0m\u001b[1;33m(\u001b[0m\u001b[0mattack_poly\u001b[0m\u001b[1;33m)\u001b[0m\u001b[1;33m\u001b[0m\u001b[1;33m\u001b[0m\u001b[0m\n\u001b[0;32m     10\u001b[0m \u001b[1;33m\u001b[0m\u001b[0m\n",
      "\u001b[1;32m~\\anaconda3\\envs\\ee\\lib\\site-packages\\shapely\\geometry\\base.py\u001b[0m in \u001b[0;36mdifference\u001b[1;34m(self, other)\u001b[0m\n\u001b[0;32m    689\u001b[0m     \u001b[1;32mdef\u001b[0m \u001b[0mdifference\u001b[0m\u001b[1;33m(\u001b[0m\u001b[0mself\u001b[0m\u001b[1;33m,\u001b[0m \u001b[0mother\u001b[0m\u001b[1;33m)\u001b[0m\u001b[1;33m:\u001b[0m\u001b[1;33m\u001b[0m\u001b[1;33m\u001b[0m\u001b[0m\n\u001b[0;32m    690\u001b[0m         \u001b[1;34m\"\"\"Returns the difference of the geometries\"\"\"\u001b[0m\u001b[1;33m\u001b[0m\u001b[1;33m\u001b[0m\u001b[0m\n\u001b[1;32m--> 691\u001b[1;33m         \u001b[1;32mreturn\u001b[0m \u001b[0mgeom_factory\u001b[0m\u001b[1;33m(\u001b[0m\u001b[0mself\u001b[0m\u001b[1;33m.\u001b[0m\u001b[0mimpl\u001b[0m\u001b[1;33m[\u001b[0m\u001b[1;34m'difference'\u001b[0m\u001b[1;33m]\u001b[0m\u001b[1;33m(\u001b[0m\u001b[0mself\u001b[0m\u001b[1;33m,\u001b[0m \u001b[0mother\u001b[0m\u001b[1;33m)\u001b[0m\u001b[1;33m)\u001b[0m\u001b[1;33m\u001b[0m\u001b[1;33m\u001b[0m\u001b[0m\n\u001b[0m\u001b[0;32m    692\u001b[0m \u001b[1;33m\u001b[0m\u001b[0m\n\u001b[0;32m    693\u001b[0m     \u001b[1;32mdef\u001b[0m \u001b[0mintersection\u001b[0m\u001b[1;33m(\u001b[0m\u001b[0mself\u001b[0m\u001b[1;33m,\u001b[0m \u001b[0mother\u001b[0m\u001b[1;33m)\u001b[0m\u001b[1;33m:\u001b[0m\u001b[1;33m\u001b[0m\u001b[1;33m\u001b[0m\u001b[0m\n",
      "\u001b[1;32m~\\anaconda3\\envs\\ee\\lib\\site-packages\\shapely\\topology.py\u001b[0m in \u001b[0;36m__call__\u001b[1;34m(self, this, other, *args)\u001b[0m\n\u001b[0;32m     67\u001b[0m         \u001b[0mself\u001b[0m\u001b[1;33m.\u001b[0m\u001b[0m_validate\u001b[0m\u001b[1;33m(\u001b[0m\u001b[0mthis\u001b[0m\u001b[1;33m)\u001b[0m\u001b[1;33m\u001b[0m\u001b[1;33m\u001b[0m\u001b[0m\n\u001b[0;32m     68\u001b[0m         \u001b[0mself\u001b[0m\u001b[1;33m.\u001b[0m\u001b[0m_validate\u001b[0m\u001b[1;33m(\u001b[0m\u001b[0mother\u001b[0m\u001b[1;33m,\u001b[0m \u001b[0mstop_prepared\u001b[0m\u001b[1;33m=\u001b[0m\u001b[1;32mTrue\u001b[0m\u001b[1;33m)\u001b[0m\u001b[1;33m\u001b[0m\u001b[1;33m\u001b[0m\u001b[0m\n\u001b[1;32m---> 69\u001b[1;33m         \u001b[0mproduct\u001b[0m \u001b[1;33m=\u001b[0m \u001b[0mself\u001b[0m\u001b[1;33m.\u001b[0m\u001b[0mfn\u001b[0m\u001b[1;33m(\u001b[0m\u001b[0mthis\u001b[0m\u001b[1;33m.\u001b[0m\u001b[0m_geom\u001b[0m\u001b[1;33m,\u001b[0m \u001b[0mother\u001b[0m\u001b[1;33m.\u001b[0m\u001b[0m_geom\u001b[0m\u001b[1;33m,\u001b[0m \u001b[1;33m*\u001b[0m\u001b[0margs\u001b[0m\u001b[1;33m)\u001b[0m\u001b[1;33m\u001b[0m\u001b[1;33m\u001b[0m\u001b[0m\n\u001b[0m\u001b[0;32m     70\u001b[0m         \u001b[1;32mif\u001b[0m \u001b[0mproduct\u001b[0m \u001b[1;32mis\u001b[0m \u001b[1;32mNone\u001b[0m\u001b[1;33m:\u001b[0m\u001b[1;33m\u001b[0m\u001b[1;33m\u001b[0m\u001b[0m\n\u001b[0;32m     71\u001b[0m             err = TopologicalError(\n",
      "\u001b[1;31mKeyboardInterrupt\u001b[0m: "
     ]
    }
   ],
   "source": [
    "pocket_poly_df = pocket_area_df[['gameId', 'playId', 'frameId','snap_frameId','nonsnap_frameId', 'pocket_polygon', 'time_since_snap']]\n",
    "pocket_poly_df = (pocket_poly_df\n",
    "                  .merge(pivot_line_df(all_pass_blockers_poly_df,'pb'), how='left', on=['gameId', 'playId', 'frameId'])\n",
    "                  .rename({'nflId': 'pb_nflId'}, axis=1)\n",
    "                  .merge(pass_rushers_poly_df[['gameId', 'nflId', 'playId','frameId', 'pr_movement_path']], how='left', on=['gameId', 'playId', 'frameId'])\n",
    "                  .rename({'nflId': 'pr_nflId'}, axis=1))\n",
    "drop_cols = [c for c in pocket_poly_df.columns if 'pb_' in c and 'pb_movement_path' not in c]\n",
    "pocket_poly_df = pocket_poly_df.drop(drop_cols, axis=1)\n",
    "pocket_poly_df['pr_pocket_intersection'] = pocket_poly_df.apply(lambda x : calc_pr_disruption_area(x), axis=1)\n",
    "pocket_poly_df.head()"
   ]
  },
  {
   "cell_type": "code",
   "execution_count": null,
   "id": "7ae55bce-4cba-4e7d-8094-fd3128cf8fb5",
   "metadata": {},
   "outputs": [],
   "source": [
    "pocket_poly_df['pocket_area'] = pocket_poly_df['pocket_polygon'].apply(lambda x: x.area)\n",
    "pocket_poly_df['pr_pocket_intersection_area'] = pocket_poly_df['pr_pocket_intersection'].apply(lambda x: x.area)\n",
    "pocket_poly_df['frame_counts'] = pocket_poly_df['nonsnap_frameId'] - pocket_poly_df['snap_frameId']\n",
    "pocket_poly_df['frameId_rebased'] = pocket_poly_df['frameId'] - pocket_poly_df['snap_frameId']\n",
    "haromonic_dict = {}\n",
    "for i in range(int(pocket_poly_df['frameId_rebased'].max())):\n",
    "    haromonic_dict[i] = nthHarmonic(i)\n",
    "\n",
    "pocket_poly_df['max_weights'] = pocket_poly_df['frame_counts'].map(haromonic_dict)\n",
    "pocket_poly_df['weights'] = pocket_poly_df['frameId_rebased'].map(haromonic_dict)\n",
    "pocket_poly_df['inverse_weights'] = 1 - pocket_poly_df['weights'] / pocket_poly_df['max_weights']\n",
    "pocket_poly_df['discount_factor'] = 1 / (1 + 0.1) ** (pocket_poly_df['frameId_rebased'] + 1)\n",
    "pocket_poly_df['weighted_area'] = pocket_poly_df['discount_factor'] * (pocket_poly_df['pr_pocket_intersection_area'] / pocket_poly_df['pocket_area'])"
   ]
  },
  {
   "cell_type": "code",
   "execution_count": null,
   "id": "a35dbad1-5d28-4789-a595-d1ec49ee861f",
   "metadata": {},
   "outputs": [],
   "source": [
    "pocket_poly_df.head()"
   ]
  },
  {
   "cell_type": "code",
   "execution_count": null,
   "id": "023c9f3a-c6ea-4211-b85e-b9f6aaf1ee9a",
   "metadata": {},
   "outputs": [],
   "source": [
    "def gen_area_stats(df):\n",
    "    \n",
    "    feat_dict = {}\n",
    "    feat_dict['weighted_affected_area'] = np.sum(df['weighted_area'])\n",
    "    feat_dict['time_until_penetration'] = df[df['weighted_area'] > 0]['time_since_snap'].min()\n",
    "    feat_dict['max_affected_area'] = np.max(df['weighted_area'])\n",
    "    return pd.Series(feat_dict)\n",
    "    "
   ]
  },
  {
   "cell_type": "code",
   "execution_count": null,
   "id": "d153801c-6fc4-440c-bfc1-294ad7b7eaab",
   "metadata": {},
   "outputs": [],
   "source": [
    "avg_pocket_disruption_df = pocket_poly_df.groupby(['gameId', 'playId', 'pr_nflId']).apply(lambda x: gen_area_stats(x)).reset_index()\n",
    "avg_pocket_disruption_df.sort_values('weighted_affected_area', ascending=False, inplace=True)\n",
    "avg_pocket_disruption_df = avg_pocket_disruption_df.merge(players_df[['nflId','displayName']], how='left', left_on='pr_nflId', right_on='nflId')\n",
    "avg_pocket_disruption_df.head()"
   ]
  },
  {
   "cell_type": "code",
   "execution_count": null,
   "id": "a3e8c235-85a2-401a-ada3-e00b0a4984f7",
   "metadata": {},
   "outputs": [],
   "source": [
    "avg_pocket_disruption_df.query('displayName == \"Patrick Mahomes\"')"
   ]
  },
  {
   "cell_type": "code",
   "execution_count": null,
   "id": "16984ec9-9b91-48ff-8336-da5c4025b172",
   "metadata": {},
   "outputs": [],
   "source": [
    "gameId = 2021092600\n",
    "playId = 2879\n",
    "pr_nflId = 52472.0"
   ]
  },
  {
   "cell_type": "code",
   "execution_count": null,
   "id": "72e3eab3-62fd-4e1b-b9ea-b1061b230dd4",
   "metadata": {},
   "outputs": [],
   "source": [
    "# example_df = pocket_poly_df.query('(gameId == @gameId) & (playId == @playId) & (pr_nflId == @pr_nflId)')\n",
    "example_df = pocket_poly_df.query('(gameId == @gameId) & (playId == @playId)')"
   ]
  },
  {
   "cell_type": "code",
   "execution_count": null,
   "id": "a3c0d4a1-dde7-427c-96a9-b4c05decbd66",
   "metadata": {},
   "outputs": [],
   "source": [
    "fig, ax = plt.subplots(2, 1, figsize=(16,8))\n",
    "sns.lineplot(example_df, x='frameId', y='discount_factor', ax=ax[0])\n",
    "ax[0].set_title('Frame Weights')\n",
    "sns.lineplot(example_df, x='frameId', y='weighted_area', ax=ax[1])\n",
    "ax[1].set_title('Weighted Affected Area Score')\n",
    "plt.tight_layout()\n",
    "plt.show()"
   ]
  },
  {
   "cell_type": "code",
   "execution_count": null,
   "id": "55f3fca7-a664-4803-b6e3-edcefd1d63bb",
   "metadata": {},
   "outputs": [],
   "source": [
    "fig, ax = plt.subplots(2, 1, figsize=(16,8))\n",
    "sns.lineplot(example_df, x='frameId', y='inverse_weights', ax=ax[0])\n",
    "ax[0].set_title('Frame Weights')\n",
    "sns.lineplot(example_df, x='frameId', y='weighted_area', ax=ax[1])\n",
    "ax[1].set_title('Weighted Affected Area Score')\n",
    "plt.tight_layout()\n",
    "plt.show()"
   ]
  },
  {
   "cell_type": "code",
   "execution_count": null,
   "id": "136768e9-e175-4939-b37b-bd4318e7a574",
   "metadata": {},
   "outputs": [],
   "source": [
    "plot_game_play_id(week_df_appended, gameId, playId, size=(1500, 800))"
   ]
  },
  {
   "cell_type": "code",
   "execution_count": null,
   "id": "0a65cf73-ccc0-4143-8132-56085fc0cc90",
   "metadata": {},
   "outputs": [],
   "source": [
    "avg_pocket_disruption_df['time_until_penetration'] = np.where(pd.isnull(avg_pocket_disruption_df['time_until_penetration']), -1, avg_pocket_disruption_df['time_until_penetration'])\n",
    "avg_pocket_disruption_df.head()"
   ]
  },
  {
   "cell_type": "code",
   "execution_count": null,
   "id": "e74c458f-aaf0-46dc-a9c1-76aeea2b3264",
   "metadata": {},
   "outputs": [],
   "source": [
    "play_ct_df = avg_pocket_disruption_df.groupby(['nflId','displayName'])['time_until_penetration'].count().reset_index().rename({'time_until_penetration': 'play_cts'}, axis=1)"
   ]
  },
  {
   "cell_type": "code",
   "execution_count": null,
   "id": "cada6be6-ae06-4462-93e2-8a00a1e06d57",
   "metadata": {},
   "outputs": [],
   "source": [
    "penetration_stats_df = (\n",
    "    avg_pocket_disruption_df[avg_pocket_disruption_df['time_until_penetration'] > 0]\n",
    " .groupby(['nflId','displayName'])\n",
    " .apply(lambda x: \n",
    "        pd.Series({'time_until_penetration': np.mean(x['time_until_penetration']),\n",
    "                   'non_zero_tup': len(x['time_until_penetration']),\n",
    "                   'avg_max_affected_area': np.mean(x['max_affected_area'])}))\n",
    " .reset_index()\n",
    ")\n",
    "penetration_stats_df = penetration_stats_df.merge(play_ct_df, how='left', on=['nflId', 'displayName'])\n",
    "penetration_stats_df = penetration_stats_df.assign(non_zero_tup_perc = lambda x: x['non_zero_tup'] / x['play_cts'])\n",
    "penetration_stats_df.sort_values('non_zero_tup_perc', ascending=False, inplace=True)\n",
    "penetration_stats_df = penetration_stats_df.query('play_cts > 30')\n",
    "penetration_stats_df.head(10)"
   ]
  },
  {
   "cell_type": "code",
   "execution_count": null,
   "id": "bf38f279-343e-435c-92d7-4fe13e7c197d",
   "metadata": {},
   "outputs": [],
   "source": [
    "import plotly.express as px\n",
    "fig = px.scatter(penetration_stats_df, x=\"time_until_penetration\", y=\"non_zero_tup_perc\", hover_data=['displayName'])\n",
    "fig.update_layout(width=1500, height=800)\n",
    "fig.show()"
   ]
  },
  {
   "cell_type": "markdown",
   "id": "354162ed-2c1e-4ded-9c4a-7fe06664a206",
   "metadata": {},
   "source": [
    "## Lift Charts"
   ]
  },
  {
   "cell_type": "code",
   "execution_count": null,
   "id": "effbb14a-5d5a-4c6f-88ff-17897f6109c8",
   "metadata": {},
   "outputs": [],
   "source": [
    "max_weighted_affected_area = avg_pocket_disruption_df.groupby(['gameId', 'playId'])['weighted_affected_area'].max().reset_index()\n",
    "max_weighted_affected_area = max_weighted_affected_area.sort_values('weighted_affected_area', ascending=False)\n",
    "max_weighted_affected_area = max_weighted_affected_area.merge(plays_df[['gameId', 'playId', 'passResult']], how='left', on=['gameId', 'playId'])\n",
    "max_weighted_affected_area['pass_incomplete_ind'] = np.where(max_weighted_affected_area['passResult'].isin(['I', 'IN']), 1, 0)\n",
    "\n",
    "gain_df = []\n",
    "for i, df in enumerate(np.array_split(max_weighted_affected_area, 10)):\n",
    "    df['decile'] = i\n",
    "    gain_df.append(df)\n",
    "gain_df = pd.concat(gain_df)\n",
    "gain_df\n",
    "# max_weighted_affected_area['decile'] = pd.qcut(max_weighted_affected_area['weighted_affected_area'], np.arange(0, 1.1, 0.1),labels=np.arange(1, 9, 1), duplicates='drop')\n",
    "\n",
    "# max_weighted_affected_area.groupby('decile')['pass_incomplete_ind'].sum() \n",
    "\n",
    "# variable_score = max_weighted_affected_area.groupby('decile')['pass_incomplete_ind'].sum() / max_weighted_affected_area.groupby('decile')['pass_incomplete_ind'].count()\n",
    "\n",
    "# baseline = max_weighted_affected_area['pass_incomplete_ind'].sum()/len(max_weighted_affected_area)\n",
    "# fig, ax = plt.subplots(1,1, figsize=(12,8))\n",
    "# sns.lineplot(data=variable_score.reset_index(), x='decile', y='pass_incomplete_ind', ax=ax, marker=\"o\")\n",
    "# ax.axhline(baseline, linestyle='--', alpha=0.5)\n",
    "# ax.set_ylabel('Pass Incompletion Percentage')\n",
    "# ax.set_xlabel('Pocket Disruption Score Decile')\n",
    "# plt.show()"
   ]
  },
  {
   "cell_type": "code",
   "execution_count": null,
   "id": "15ffcb91-2a3a-4fd8-8971-be69e4fd4b04",
   "metadata": {},
   "outputs": [],
   "source": [
    "gain_chart_df = (\n",
    "    gain_df\n",
    "     .groupby('decile')\n",
    "     .apply(lambda x: \n",
    "            pd.Series({\n",
    "                'no_of_plays': len(x),\n",
    "                'pass_inc_ct': np.sum(x['pass_incomplete_ind'])})\n",
    "           )\n",
    "     .reset_index()\n",
    "     .assign(\n",
    "         decile = lambda x: x['decile'] + 1\n",
    "     )\n",
    ")\n",
    "\n",
    "gain_chart_df.loc[-1] = [0, 0, 0]\n",
    "gain_chart_df.index = gain_chart_df.index + 1\n",
    "gain_chart_df.sort_index(inplace=True) \n",
    "\n",
    "gain_chart_df = (\n",
    "    gain_chart_df\n",
    "    .assign(\n",
    "         cum_pass_inc_ct = lambda x: x['pass_inc_ct'].cumsum(),\n",
    "         perc_of_events = lambda x: x['pass_inc_ct'] / x['pass_inc_ct'].sum() * 100,\n",
    "         perc_of_cumulative_plays = lambda x: x['no_of_plays'].cumsum() / x['no_of_plays'].sum() * 100\n",
    "     )\n",
    "     .assign(\n",
    "         gain = lambda x: x['cum_pass_inc_ct'] / x['pass_inc_ct'].sum() * 100\n",
    "     )\n",
    "     .assign(\n",
    "         cumulative_lift = lambda x: x['gain'] / (10*x['decile'])\n",
    "     )\n",
    ")\n",
    "\n",
    "gain_chart_df"
   ]
  },
  {
   "cell_type": "code",
   "execution_count": null,
   "id": "4c878d4f-0a3b-4256-8479-3e7bc5cd6646",
   "metadata": {},
   "outputs": [],
   "source": [
    "fig, ax = plt.subplots(1,1, figsize=(12,8))\n",
    "sns.lineplot(data=gain_chart_df, x='decile', y='gain', ax=ax, marker=\"o\")\n",
    "sns.lineplot(data=gain_chart_df, x='decile', y='perc_of_cumulative_plays', ax=ax, marker=\"o\")\n",
    "ax.set_ylabel('Pass Incompletion Percentage')\n",
    "ax.set_xlabel('Pocket Disruption Score Decile')\n",
    "plt.show()"
   ]
  },
  {
   "cell_type": "code",
   "execution_count": null,
   "id": "61f0f328-0f47-49c6-9888-b39871999d0c",
   "metadata": {},
   "outputs": [],
   "source": [
    "fig, ax = plt.subplots(1,1, figsize=(12,8))\n",
    "sns.lineplot(data=gain_chart_df.dropna(), x='perc_of_cumulative_plays', y='cumulative_lift', ax=ax, marker=\"o\")\n",
    "sns.lineplot(data=gain_chart_df.dropna(), x='perc_of_cumulative_plays', y=1, ax=ax, marker=\"o\")\n",
    "ax.set_ylabel('Pass Incompletion Percentage')\n",
    "ax.set_xlabel('Pocket Disruption Score Decile')\n",
    "plt.show()"
   ]
  },
  {
   "cell_type": "code",
   "execution_count": null,
   "id": "b8c22636-ef57-4e91-914b-447261f98e19",
   "metadata": {},
   "outputs": [],
   "source": [
    "from sklearn import metrics\n",
    "from scipy import stats"
   ]
  },
  {
   "cell_type": "code",
   "execution_count": null,
   "id": "f737e48a-401e-4e3c-a7a1-f1ebaee32ee1",
   "metadata": {},
   "outputs": [],
   "source": [
    "fpr, tpr, thresholds = metrics.roc_curve(gain_df['pass_incomplete_ind'], gain_df['weighted_affected_area'], pos_label=1)\n",
    "metrics.auc(fpr, tpr)"
   ]
  },
  {
   "cell_type": "code",
   "execution_count": null,
   "id": "1035d95f-6fa7-4880-9199-9469bc02c39e",
   "metadata": {},
   "outputs": [],
   "source": [
    "stats.pearsonr(gain_df['pass_incomplete_ind'], gain_df['weighted_affected_area'])"
   ]
  },
  {
   "cell_type": "code",
   "execution_count": null,
   "id": "d2694c6c-76b3-464e-a978-0eb26c77f58d",
   "metadata": {},
   "outputs": [],
   "source": [
    "pff_scouting_df.head()"
   ]
  },
  {
   "cell_type": "code",
   "execution_count": null,
   "id": "e1aca4b3-61a7-4fd5-9585-98d5a31c5898",
   "metadata": {},
   "outputs": [],
   "source": [
    "pff_scouting_df['pff_hurry'].fillna(0)"
   ]
  },
  {
   "cell_type": "code",
   "execution_count": null,
   "id": "6c931c60-de1e-4165-bd49-ce9098f9c346",
   "metadata": {},
   "outputs": [],
   "source": [
    "week_df_baseline = week_df.copy(deep=True)\n",
    "week_df_baseline['pff_hurry'] = week_df_baseline['pff_hurry'].fillna(0)\n",
    "week_df_baseline = week_df_baseline.groupby(['gameId', 'playId', 'passResult'])['pff_hurry'].max().reset_index()\n",
    "week_df_baseline['pass_incomplete_ind'] = np.where(week_df_baseline['passResult'].isin(['I', 'IN']), 1, 0)\n",
    "week_df_baseline"
   ]
  },
  {
   "cell_type": "code",
   "execution_count": null,
   "id": "bffddac0-85ca-407d-bc1e-c9336ad34569",
   "metadata": {},
   "outputs": [],
   "source": [
    "fpr, tpr, thresholds = metrics.roc_curve(week_df_baseline['pass_incomplete_ind'], week_df_baseline['pff_hurry'], pos_label=1)\n",
    "metrics.auc(fpr, tpr)"
   ]
  },
  {
   "cell_type": "code",
   "execution_count": null,
   "id": "81192d66-b26f-4fa4-89da-9ef074736ee8",
   "metadata": {},
   "outputs": [],
   "source": [
    "stats.pearsonr(week_df_baseline['pass_incomplete_ind'], week_df_baseline['pff_hurry'])"
   ]
  },
  {
   "cell_type": "code",
   "execution_count": null,
   "id": "6c7235e0-15ae-4b1a-95eb-43e6b92dd744",
   "metadata": {},
   "outputs": [],
   "source": [
    "0.574 / 0.55"
   ]
  },
  {
   "cell_type": "code",
   "execution_count": null,
   "id": "6ebf283d-9078-484a-866c-185e69efb7a0",
   "metadata": {},
   "outputs": [],
   "source": [
    "plays_df['dropBackType'].unique()"
   ]
  },
  {
   "cell_type": "code",
   "execution_count": null,
   "id": "c62cdb0c-6254-4093-be38-fddfa5391096",
   "metadata": {},
   "outputs": [],
   "source": []
  }
 ],
 "metadata": {
  "kernelspec": {
   "display_name": "ee",
   "language": "python",
   "name": "ee"
  },
  "language_info": {
   "codemirror_mode": {
    "name": "ipython",
    "version": 3
   },
   "file_extension": ".py",
   "mimetype": "text/x-python",
   "name": "python",
   "nbconvert_exporter": "python",
   "pygments_lexer": "ipython3",
   "version": "3.10.6"
  }
 },
 "nbformat": 4,
 "nbformat_minor": 5
}
